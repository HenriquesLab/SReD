{
 "cells": [
  {
   "cell_type": "code",
   "execution_count": 7,
   "id": "242f1b67",
   "metadata": {},
   "outputs": [
    {
     "name": "stderr",
     "output_type": "stream",
     "text": [
      "/var/folders/_k/plj42bld54n7y_37wjz3qvt00000gp/T/ipykernel_40409/4231241197.py:48: SettingWithCopyWarning: \n",
      "A value is trying to be set on a copy of a slice from a DataFrame\n",
      "\n",
      "See the caveats in the documentation: https://pandas.pydata.org/pandas-docs/stable/user_guide/indexing.html#returning-a-view-versus-a-copy\n",
      "  test_data_x[j] = np.nan\n",
      "/var/folders/_k/plj42bld54n7y_37wjz3qvt00000gp/T/ipykernel_40409/4231241197.py:49: SettingWithCopyWarning: \n",
      "A value is trying to be set on a copy of a slice from a DataFrame\n",
      "\n",
      "See the caveats in the documentation: https://pandas.pydata.org/pandas-docs/stable/user_guide/indexing.html#returning-a-view-versus-a-copy\n",
      "  test_data_y[j] = np.nan\n",
      "/var/folders/_k/plj42bld54n7y_37wjz3qvt00000gp/T/ipykernel_40409/4231241197.py:50: SettingWithCopyWarning: \n",
      "A value is trying to be set on a copy of a slice from a DataFrame\n",
      "\n",
      "See the caveats in the documentation: https://pandas.pydata.org/pandas-docs/stable/user_guide/indexing.html#returning-a-view-versus-a-copy\n",
      "  test_data_z[j] = np.nan\n"
     ]
    },
    {
     "name": "stdout",
     "output_type": "stream",
     "text": [
      "-> Indices of matched points in the control data:\n",
      "[0, 1, 3, 4, 5, 6, 7, 8, 9, 10, 11, 12, 13, 14, 15, 16, 17, 18, 19, 20, 21, 22, 23, 24, 25, 26, 27, 28, 29, 31, 32, 33, 34, 35, 36, 37, 38, 39, 40, 41, 42, 43, 44, 45, 46, 47, 48, 49, 50, 51, 52, 53, 54, 55, 56, 57, 58, 59, 60, 61, 62, 63, 64, 65, 66, 67, 68, 69, 70, 71, 73, 74, 75, 76, 78, 79, 80, 81, 82, 83, 84, 85, 86, 87, 88, 89, 90, 91, 92, 93, 94, 95, 96, 97, 98, 99, 102, 103, 104, 105, 106, 107, 108, 110, 111, 112, 113, 114, 115, 116, 117, 118, 119, 120, 121, 122, 123, 124, 125, 126, 128, 129, 130, 131, 132, 133, 134, 135, 136, 137, 138, 142, 143, 144, 145, 146, 147, 150, 152, 153, 155, 158, 159, 161, 162, 169, 181, 188, 189, 215]\n",
      "\n",
      "-> Percentage of points in control set that exist in experimental set within 5.0 units: 38.76%\n"
     ]
    }
   ],
   "source": [
    "## -------------------------------------------------------- ##\n",
    "## ---- Calculate 3D spots' match percentage (example) ---- ##\n",
    "## -------------------------------------------------------- ##\n",
    "\n",
    "\n",
    "# Import libraries\n",
    "import numpy as np\n",
    "import pandas as pd\n",
    "\n",
    "# Load data from CSV (change directories accordingly)\n",
    "control_data = pd.read_csv('*/control_spots.csv')\n",
    "test_data = pd.read_csv('*/test_spots.csv')\n",
    "\n",
    "# Extract X, Y, Z coordinates from the data\n",
    "# CSV structure: A row for each spots, \n",
    "control_data_x = control_data['X']\n",
    "control_data_y = control_data['Y']\n",
    "control_data_z = control_data['Z']\n",
    "\n",
    "test_data_x = test_data['X']\n",
    "test_data_y = test_data['Y']\n",
    "test_data_z = test_data['Z']\n",
    "\n",
    "# Define matching range (in pixels or units of your coordinate system)\n",
    "matching_range = 5.0  # Example range, adjust as needed\n",
    "\n",
    "# Initialize a list to store indices of matched points\n",
    "matched_indices = []\n",
    "\n",
    "# Iterate over each point in the control set\n",
    "for i in range(len(control_data_x)):\n",
    "    control_point = np.array([control_data_x[i], control_data_y[i], control_data_z[i]])\n",
    "    matched = False\n",
    "    \n",
    "    # Iterate over each point in the experimental set\n",
    "    for j in range(len(test_data_x)):\n",
    "        if not matched:\n",
    "            test_point = np.array([test_data_x[j], test_data_y[j], test_data_z[j]])\n",
    "            \n",
    "            # Calculate distance between the euclidean control point and the test point\n",
    "            distance = np.sqrt(np.sum((control_point - test_point)**2))\n",
    "            \n",
    "            # Check if distance is within matching range\n",
    "            if distance <= matching_range:\n",
    "                matched_indices.append(i)  # Store the index of matched control point\n",
    "                matched = True  # Mark test point as matched\n",
    "                \n",
    "                # Remove the matched experimental point from further analyses\n",
    "                test_data_x[j] = np.nan\n",
    "                test_data_y[j] = np.nan\n",
    "                test_data_z[j] = np.nan\n",
    "\n",
    "# Calculate percentage of matched points relative to total points in the control set\n",
    "percentage_matched = (len(matched_indices) / len(control_data_x)) * 100\n",
    "\n",
    "# Print matched indices and percentage\n",
    "print(\"-> Indices of matched points in the control data:\")\n",
    "print(matched_indices)\n",
    "print('')\n",
    "print(f\"-> Percentage of points in control set that exist in experimental set within {matching_range} units: {percentage_matched:.2f}%\")\n"
   ]
  }
 ],
 "metadata": {
  "kernelspec": {
   "display_name": "Python 3 (ipykernel)",
   "language": "python",
   "name": "python3"
  },
  "language_info": {
   "codemirror_mode": {
    "name": "ipython",
    "version": 3
   },
   "file_extension": ".py",
   "mimetype": "text/x-python",
   "name": "python",
   "nbconvert_exporter": "python",
   "pygments_lexer": "ipython3",
   "version": "3.9.4"
  }
 },
 "nbformat": 4,
 "nbformat_minor": 5
}
