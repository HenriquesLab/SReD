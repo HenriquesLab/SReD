{
 "cells": [
  {
   "cell_type": "markdown",
   "id": "bff20a17",
   "metadata": {},
   "source": []
  },
  {
   "cell_type": "code",
   "execution_count": 20,
   "id": "e1aea058",
   "metadata": {
    "scrolled": true
   },
   "outputs": [
    {
     "name": "stdout",
     "output_type": "stream",
     "text": [
      "Processing folder  1/30\n",
      "Calculating autocorrelations...\n"
     ]
    },
    {
     "name": "stderr",
     "output_type": "stream",
     "text": [
      "/var/folders/_k/plj42bld54n7y_37wjz3qvt00000gp/T/ipykernel_12616/3117465453.py:135: FutureWarning: The behavior of DataFrame concatenation with empty or all-NA entries is deprecated. In a future version, this will no longer exclude empty or all-NA columns when determining the result dtypes. To retain the old behavior, exclude the relevant entries before the concat operation.\n",
      "  results = pd.concat([results, pd.DataFrame({'Spacing (µm)': spacing * calibration_factor,\n"
     ]
    },
    {
     "name": "stdout",
     "output_type": "stream",
     "text": [
      "Generating heatmap...\n",
      "Done.\n",
      "\n",
      "Processing folder  2/30\n",
      "Calculating autocorrelations...\n"
     ]
    },
    {
     "name": "stderr",
     "output_type": "stream",
     "text": [
      "/var/folders/_k/plj42bld54n7y_37wjz3qvt00000gp/T/ipykernel_12616/3117465453.py:135: FutureWarning: The behavior of DataFrame concatenation with empty or all-NA entries is deprecated. In a future version, this will no longer exclude empty or all-NA columns when determining the result dtypes. To retain the old behavior, exclude the relevant entries before the concat operation.\n",
      "  results = pd.concat([results, pd.DataFrame({'Spacing (µm)': spacing * calibration_factor,\n"
     ]
    },
    {
     "name": "stdout",
     "output_type": "stream",
     "text": [
      "Generating heatmap...\n",
      "Done.\n",
      "\n",
      "Processing folder  3/30\n",
      "Calculating autocorrelations...\n"
     ]
    },
    {
     "name": "stderr",
     "output_type": "stream",
     "text": [
      "/var/folders/_k/plj42bld54n7y_37wjz3qvt00000gp/T/ipykernel_12616/3117465453.py:135: FutureWarning: The behavior of DataFrame concatenation with empty or all-NA entries is deprecated. In a future version, this will no longer exclude empty or all-NA columns when determining the result dtypes. To retain the old behavior, exclude the relevant entries before the concat operation.\n",
      "  results = pd.concat([results, pd.DataFrame({'Spacing (µm)': spacing * calibration_factor,\n"
     ]
    },
    {
     "name": "stdout",
     "output_type": "stream",
     "text": [
      "Generating heatmap...\n",
      "Done.\n",
      "\n",
      "Processing folder  4/30\n",
      "Calculating autocorrelations...\n"
     ]
    },
    {
     "name": "stderr",
     "output_type": "stream",
     "text": [
      "/var/folders/_k/plj42bld54n7y_37wjz3qvt00000gp/T/ipykernel_12616/3117465453.py:135: FutureWarning: The behavior of DataFrame concatenation with empty or all-NA entries is deprecated. In a future version, this will no longer exclude empty or all-NA columns when determining the result dtypes. To retain the old behavior, exclude the relevant entries before the concat operation.\n",
      "  results = pd.concat([results, pd.DataFrame({'Spacing (µm)': spacing * calibration_factor,\n",
      "No artists with labels found to put in legend.  Note that artists whose label start with an underscore are ignored when legend() is called with no argument.\n",
      "No artists with labels found to put in legend.  Note that artists whose label start with an underscore are ignored when legend() is called with no argument.\n",
      "No artists with labels found to put in legend.  Note that artists whose label start with an underscore are ignored when legend() is called with no argument.\n",
      "No artists with labels found to put in legend.  Note that artists whose label start with an underscore are ignored when legend() is called with no argument.\n",
      "No artists with labels found to put in legend.  Note that artists whose label start with an underscore are ignored when legend() is called with no argument.\n",
      "No artists with labels found to put in legend.  Note that artists whose label start with an underscore are ignored when legend() is called with no argument.\n",
      "No artists with labels found to put in legend.  Note that artists whose label start with an underscore are ignored when legend() is called with no argument.\n",
      "No artists with labels found to put in legend.  Note that artists whose label start with an underscore are ignored when legend() is called with no argument.\n",
      "No artists with labels found to put in legend.  Note that artists whose label start with an underscore are ignored when legend() is called with no argument.\n",
      "No artists with labels found to put in legend.  Note that artists whose label start with an underscore are ignored when legend() is called with no argument.\n",
      "No artists with labels found to put in legend.  Note that artists whose label start with an underscore are ignored when legend() is called with no argument.\n",
      "No artists with labels found to put in legend.  Note that artists whose label start with an underscore are ignored when legend() is called with no argument.\n",
      "No artists with labels found to put in legend.  Note that artists whose label start with an underscore are ignored when legend() is called with no argument.\n",
      "No artists with labels found to put in legend.  Note that artists whose label start with an underscore are ignored when legend() is called with no argument.\n",
      "No artists with labels found to put in legend.  Note that artists whose label start with an underscore are ignored when legend() is called with no argument.\n",
      "No artists with labels found to put in legend.  Note that artists whose label start with an underscore are ignored when legend() is called with no argument.\n",
      "No artists with labels found to put in legend.  Note that artists whose label start with an underscore are ignored when legend() is called with no argument.\n",
      "No artists with labels found to put in legend.  Note that artists whose label start with an underscore are ignored when legend() is called with no argument.\n",
      "No artists with labels found to put in legend.  Note that artists whose label start with an underscore are ignored when legend() is called with no argument.\n",
      "No artists with labels found to put in legend.  Note that artists whose label start with an underscore are ignored when legend() is called with no argument.\n",
      "No artists with labels found to put in legend.  Note that artists whose label start with an underscore are ignored when legend() is called with no argument.\n",
      "No artists with labels found to put in legend.  Note that artists whose label start with an underscore are ignored when legend() is called with no argument.\n",
      "No artists with labels found to put in legend.  Note that artists whose label start with an underscore are ignored when legend() is called with no argument.\n",
      "No artists with labels found to put in legend.  Note that artists whose label start with an underscore are ignored when legend() is called with no argument.\n",
      "No artists with labels found to put in legend.  Note that artists whose label start with an underscore are ignored when legend() is called with no argument.\n"
     ]
    },
    {
     "name": "stdout",
     "output_type": "stream",
     "text": [
      "Generating heatmap...\n"
     ]
    },
    {
     "name": "stderr",
     "output_type": "stream",
     "text": [
      "/var/folders/_k/plj42bld54n7y_37wjz3qvt00000gp/T/ipykernel_12616/3117465453.py:172: FutureWarning: The behavior of DataFrame concatenation with empty or all-NA entries is deprecated. In a future version, this will no longer exclude empty or all-NA columns when determining the result dtypes. To retain the old behavior, exclude the relevant entries before the concat operation.\n",
      "  results = pd.concat([results, new_row_df], ignore_index=True)\n",
      "No artists with labels found to put in legend.  Note that artists whose label start with an underscore are ignored when legend() is called with no argument.\n"
     ]
    },
    {
     "name": "stdout",
     "output_type": "stream",
     "text": [
      "Done.\n",
      "\n",
      "Processing folder  5/30\n",
      "Calculating autocorrelations...\n"
     ]
    },
    {
     "name": "stderr",
     "output_type": "stream",
     "text": [
      "No artists with labels found to put in legend.  Note that artists whose label start with an underscore are ignored when legend() is called with no argument.\n",
      "No artists with labels found to put in legend.  Note that artists whose label start with an underscore are ignored when legend() is called with no argument.\n",
      "No artists with labels found to put in legend.  Note that artists whose label start with an underscore are ignored when legend() is called with no argument.\n",
      "No artists with labels found to put in legend.  Note that artists whose label start with an underscore are ignored when legend() is called with no argument.\n",
      "No artists with labels found to put in legend.  Note that artists whose label start with an underscore are ignored when legend() is called with no argument.\n",
      "No artists with labels found to put in legend.  Note that artists whose label start with an underscore are ignored when legend() is called with no argument.\n",
      "No artists with labels found to put in legend.  Note that artists whose label start with an underscore are ignored when legend() is called with no argument.\n",
      "No artists with labels found to put in legend.  Note that artists whose label start with an underscore are ignored when legend() is called with no argument.\n",
      "No artists with labels found to put in legend.  Note that artists whose label start with an underscore are ignored when legend() is called with no argument.\n",
      "No artists with labels found to put in legend.  Note that artists whose label start with an underscore are ignored when legend() is called with no argument.\n",
      "No artists with labels found to put in legend.  Note that artists whose label start with an underscore are ignored when legend() is called with no argument.\n",
      "No artists with labels found to put in legend.  Note that artists whose label start with an underscore are ignored when legend() is called with no argument.\n",
      "No artists with labels found to put in legend.  Note that artists whose label start with an underscore are ignored when legend() is called with no argument.\n",
      "No artists with labels found to put in legend.  Note that artists whose label start with an underscore are ignored when legend() is called with no argument.\n",
      "No artists with labels found to put in legend.  Note that artists whose label start with an underscore are ignored when legend() is called with no argument.\n",
      "No artists with labels found to put in legend.  Note that artists whose label start with an underscore are ignored when legend() is called with no argument.\n",
      "No artists with labels found to put in legend.  Note that artists whose label start with an underscore are ignored when legend() is called with no argument.\n",
      "No artists with labels found to put in legend.  Note that artists whose label start with an underscore are ignored when legend() is called with no argument.\n",
      "No artists with labels found to put in legend.  Note that artists whose label start with an underscore are ignored when legend() is called with no argument.\n",
      "No artists with labels found to put in legend.  Note that artists whose label start with an underscore are ignored when legend() is called with no argument.\n",
      "No artists with labels found to put in legend.  Note that artists whose label start with an underscore are ignored when legend() is called with no argument.\n",
      "No artists with labels found to put in legend.  Note that artists whose label start with an underscore are ignored when legend() is called with no argument.\n",
      "No artists with labels found to put in legend.  Note that artists whose label start with an underscore are ignored when legend() is called with no argument.\n",
      "No artists with labels found to put in legend.  Note that artists whose label start with an underscore are ignored when legend() is called with no argument.\n",
      "No artists with labels found to put in legend.  Note that artists whose label start with an underscore are ignored when legend() is called with no argument.\n",
      "No artists with labels found to put in legend.  Note that artists whose label start with an underscore are ignored when legend() is called with no argument.\n",
      "No artists with labels found to put in legend.  Note that artists whose label start with an underscore are ignored when legend() is called with no argument.\n",
      "No artists with labels found to put in legend.  Note that artists whose label start with an underscore are ignored when legend() is called with no argument.\n",
      "No artists with labels found to put in legend.  Note that artists whose label start with an underscore are ignored when legend() is called with no argument.\n",
      "No artists with labels found to put in legend.  Note that artists whose label start with an underscore are ignored when legend() is called with no argument.\n",
      "No artists with labels found to put in legend.  Note that artists whose label start with an underscore are ignored when legend() is called with no argument.\n",
      "No artists with labels found to put in legend.  Note that artists whose label start with an underscore are ignored when legend() is called with no argument.\n",
      "No artists with labels found to put in legend.  Note that artists whose label start with an underscore are ignored when legend() is called with no argument.\n",
      "No artists with labels found to put in legend.  Note that artists whose label start with an underscore are ignored when legend() is called with no argument.\n",
      "No artists with labels found to put in legend.  Note that artists whose label start with an underscore are ignored when legend() is called with no argument.\n",
      "No artists with labels found to put in legend.  Note that artists whose label start with an underscore are ignored when legend() is called with no argument.\n"
     ]
    },
    {
     "name": "stdout",
     "output_type": "stream",
     "text": [
      "Generating heatmap...\n",
      "Done.\n",
      "\n",
      "Processing folder  6/30\n",
      "Calculating autocorrelations...\n"
     ]
    },
    {
     "name": "stderr",
     "output_type": "stream",
     "text": [
      "/var/folders/_k/plj42bld54n7y_37wjz3qvt00000gp/T/ipykernel_12616/3117465453.py:135: FutureWarning: The behavior of DataFrame concatenation with empty or all-NA entries is deprecated. In a future version, this will no longer exclude empty or all-NA columns when determining the result dtypes. To retain the old behavior, exclude the relevant entries before the concat operation.\n",
      "  results = pd.concat([results, pd.DataFrame({'Spacing (µm)': spacing * calibration_factor,\n"
     ]
    },
    {
     "name": "stdout",
     "output_type": "stream",
     "text": [
      "Generating heatmap...\n",
      "Done.\n",
      "\n",
      "Processing folder  7/30\n",
      "Calculating autocorrelations...\n"
     ]
    },
    {
     "name": "stderr",
     "output_type": "stream",
     "text": [
      "/var/folders/_k/plj42bld54n7y_37wjz3qvt00000gp/T/ipykernel_12616/3117465453.py:135: FutureWarning: The behavior of DataFrame concatenation with empty or all-NA entries is deprecated. In a future version, this will no longer exclude empty or all-NA columns when determining the result dtypes. To retain the old behavior, exclude the relevant entries before the concat operation.\n",
      "  results = pd.concat([results, pd.DataFrame({'Spacing (µm)': spacing * calibration_factor,\n"
     ]
    },
    {
     "name": "stdout",
     "output_type": "stream",
     "text": [
      "Generating heatmap...\n",
      "Done.\n",
      "\n",
      "Processing folder  8/30\n",
      "Calculating autocorrelations...\n"
     ]
    },
    {
     "name": "stderr",
     "output_type": "stream",
     "text": [
      "/var/folders/_k/plj42bld54n7y_37wjz3qvt00000gp/T/ipykernel_12616/3117465453.py:135: FutureWarning: The behavior of DataFrame concatenation with empty or all-NA entries is deprecated. In a future version, this will no longer exclude empty or all-NA columns when determining the result dtypes. To retain the old behavior, exclude the relevant entries before the concat operation.\n",
      "  results = pd.concat([results, pd.DataFrame({'Spacing (µm)': spacing * calibration_factor,\n"
     ]
    },
    {
     "name": "stdout",
     "output_type": "stream",
     "text": [
      "Generating heatmap...\n",
      "Done.\n",
      "\n",
      "Processing folder  9/30\n",
      "Calculating autocorrelations...\n"
     ]
    },
    {
     "name": "stderr",
     "output_type": "stream",
     "text": [
      "/var/folders/_k/plj42bld54n7y_37wjz3qvt00000gp/T/ipykernel_12616/3117465453.py:135: FutureWarning: The behavior of DataFrame concatenation with empty or all-NA entries is deprecated. In a future version, this will no longer exclude empty or all-NA columns when determining the result dtypes. To retain the old behavior, exclude the relevant entries before the concat operation.\n",
      "  results = pd.concat([results, pd.DataFrame({'Spacing (µm)': spacing * calibration_factor,\n"
     ]
    },
    {
     "name": "stdout",
     "output_type": "stream",
     "text": [
      "Generating heatmap...\n",
      "Done.\n",
      "\n",
      "Processing folder  10/30\n",
      "Calculating autocorrelations...\n"
     ]
    },
    {
     "name": "stderr",
     "output_type": "stream",
     "text": [
      "/var/folders/_k/plj42bld54n7y_37wjz3qvt00000gp/T/ipykernel_12616/3117465453.py:135: FutureWarning: The behavior of DataFrame concatenation with empty or all-NA entries is deprecated. In a future version, this will no longer exclude empty or all-NA columns when determining the result dtypes. To retain the old behavior, exclude the relevant entries before the concat operation.\n",
      "  results = pd.concat([results, pd.DataFrame({'Spacing (µm)': spacing * calibration_factor,\n"
     ]
    },
    {
     "name": "stdout",
     "output_type": "stream",
     "text": [
      "Generating heatmap...\n",
      "Done.\n",
      "\n",
      "Processing folder  11/30\n",
      "Calculating autocorrelations...\n"
     ]
    },
    {
     "name": "stderr",
     "output_type": "stream",
     "text": [
      "/var/folders/_k/plj42bld54n7y_37wjz3qvt00000gp/T/ipykernel_12616/3117465453.py:135: FutureWarning: The behavior of DataFrame concatenation with empty or all-NA entries is deprecated. In a future version, this will no longer exclude empty or all-NA columns when determining the result dtypes. To retain the old behavior, exclude the relevant entries before the concat operation.\n",
      "  results = pd.concat([results, pd.DataFrame({'Spacing (µm)': spacing * calibration_factor,\n"
     ]
    },
    {
     "name": "stdout",
     "output_type": "stream",
     "text": [
      "Generating heatmap...\n",
      "Done.\n",
      "\n",
      "Processing folder  12/30\n",
      "Calculating autocorrelations...\n"
     ]
    },
    {
     "name": "stderr",
     "output_type": "stream",
     "text": [
      "/var/folders/_k/plj42bld54n7y_37wjz3qvt00000gp/T/ipykernel_12616/3117465453.py:135: FutureWarning: The behavior of DataFrame concatenation with empty or all-NA entries is deprecated. In a future version, this will no longer exclude empty or all-NA columns when determining the result dtypes. To retain the old behavior, exclude the relevant entries before the concat operation.\n",
      "  results = pd.concat([results, pd.DataFrame({'Spacing (µm)': spacing * calibration_factor,\n"
     ]
    },
    {
     "name": "stdout",
     "output_type": "stream",
     "text": [
      "Generating heatmap...\n",
      "Done.\n",
      "\n",
      "Processing folder  13/30\n",
      "Calculating autocorrelations...\n"
     ]
    },
    {
     "name": "stderr",
     "output_type": "stream",
     "text": [
      "/var/folders/_k/plj42bld54n7y_37wjz3qvt00000gp/T/ipykernel_12616/3117465453.py:135: FutureWarning: The behavior of DataFrame concatenation with empty or all-NA entries is deprecated. In a future version, this will no longer exclude empty or all-NA columns when determining the result dtypes. To retain the old behavior, exclude the relevant entries before the concat operation.\n",
      "  results = pd.concat([results, pd.DataFrame({'Spacing (µm)': spacing * calibration_factor,\n"
     ]
    },
    {
     "name": "stdout",
     "output_type": "stream",
     "text": [
      "Generating heatmap...\n",
      "Done.\n",
      "\n",
      "Processing folder  14/30\n",
      "Calculating autocorrelations...\n"
     ]
    },
    {
     "name": "stderr",
     "output_type": "stream",
     "text": [
      "/var/folders/_k/plj42bld54n7y_37wjz3qvt00000gp/T/ipykernel_12616/3117465453.py:135: FutureWarning: The behavior of DataFrame concatenation with empty or all-NA entries is deprecated. In a future version, this will no longer exclude empty or all-NA columns when determining the result dtypes. To retain the old behavior, exclude the relevant entries before the concat operation.\n",
      "  results = pd.concat([results, pd.DataFrame({'Spacing (µm)': spacing * calibration_factor,\n"
     ]
    },
    {
     "name": "stdout",
     "output_type": "stream",
     "text": [
      "Generating heatmap...\n",
      "Done.\n",
      "\n",
      "Processing folder  15/30\n",
      "Calculating autocorrelations...\n"
     ]
    },
    {
     "name": "stderr",
     "output_type": "stream",
     "text": [
      "/var/folders/_k/plj42bld54n7y_37wjz3qvt00000gp/T/ipykernel_12616/3117465453.py:135: FutureWarning: The behavior of DataFrame concatenation with empty or all-NA entries is deprecated. In a future version, this will no longer exclude empty or all-NA columns when determining the result dtypes. To retain the old behavior, exclude the relevant entries before the concat operation.\n",
      "  results = pd.concat([results, pd.DataFrame({'Spacing (µm)': spacing * calibration_factor,\n"
     ]
    },
    {
     "name": "stdout",
     "output_type": "stream",
     "text": [
      "Generating heatmap...\n",
      "Done.\n",
      "\n",
      "Processing folder  16/30\n",
      "Calculating autocorrelations...\n"
     ]
    },
    {
     "name": "stderr",
     "output_type": "stream",
     "text": [
      "/var/folders/_k/plj42bld54n7y_37wjz3qvt00000gp/T/ipykernel_12616/3117465453.py:135: FutureWarning: The behavior of DataFrame concatenation with empty or all-NA entries is deprecated. In a future version, this will no longer exclude empty or all-NA columns when determining the result dtypes. To retain the old behavior, exclude the relevant entries before the concat operation.\n",
      "  results = pd.concat([results, pd.DataFrame({'Spacing (µm)': spacing * calibration_factor,\n"
     ]
    },
    {
     "name": "stdout",
     "output_type": "stream",
     "text": [
      "Generating heatmap...\n",
      "Done.\n",
      "\n",
      "Processing folder  17/30\n",
      "Calculating autocorrelations...\n"
     ]
    },
    {
     "name": "stderr",
     "output_type": "stream",
     "text": [
      "/var/folders/_k/plj42bld54n7y_37wjz3qvt00000gp/T/ipykernel_12616/3117465453.py:135: FutureWarning: The behavior of DataFrame concatenation with empty or all-NA entries is deprecated. In a future version, this will no longer exclude empty or all-NA columns when determining the result dtypes. To retain the old behavior, exclude the relevant entries before the concat operation.\n",
      "  results = pd.concat([results, pd.DataFrame({'Spacing (µm)': spacing * calibration_factor,\n"
     ]
    },
    {
     "name": "stdout",
     "output_type": "stream",
     "text": [
      "Generating heatmap...\n",
      "Done.\n",
      "\n",
      "Processing folder  18/30\n",
      "Calculating autocorrelations...\n"
     ]
    },
    {
     "name": "stderr",
     "output_type": "stream",
     "text": [
      "/var/folders/_k/plj42bld54n7y_37wjz3qvt00000gp/T/ipykernel_12616/3117465453.py:135: FutureWarning: The behavior of DataFrame concatenation with empty or all-NA entries is deprecated. In a future version, this will no longer exclude empty or all-NA columns when determining the result dtypes. To retain the old behavior, exclude the relevant entries before the concat operation.\n",
      "  results = pd.concat([results, pd.DataFrame({'Spacing (µm)': spacing * calibration_factor,\n"
     ]
    },
    {
     "name": "stdout",
     "output_type": "stream",
     "text": [
      "Generating heatmap...\n",
      "Done.\n",
      "\n",
      "Processing folder  19/30\n",
      "Calculating autocorrelations...\n"
     ]
    },
    {
     "name": "stderr",
     "output_type": "stream",
     "text": [
      "/var/folders/_k/plj42bld54n7y_37wjz3qvt00000gp/T/ipykernel_12616/3117465453.py:135: FutureWarning: The behavior of DataFrame concatenation with empty or all-NA entries is deprecated. In a future version, this will no longer exclude empty or all-NA columns when determining the result dtypes. To retain the old behavior, exclude the relevant entries before the concat operation.\n",
      "  results = pd.concat([results, pd.DataFrame({'Spacing (µm)': spacing * calibration_factor,\n"
     ]
    },
    {
     "name": "stdout",
     "output_type": "stream",
     "text": [
      "Generating heatmap...\n",
      "Done.\n",
      "\n",
      "Processing folder  20/30\n",
      "Calculating autocorrelations...\n"
     ]
    },
    {
     "name": "stderr",
     "output_type": "stream",
     "text": [
      "/var/folders/_k/plj42bld54n7y_37wjz3qvt00000gp/T/ipykernel_12616/3117465453.py:135: FutureWarning: The behavior of DataFrame concatenation with empty or all-NA entries is deprecated. In a future version, this will no longer exclude empty or all-NA columns when determining the result dtypes. To retain the old behavior, exclude the relevant entries before the concat operation.\n",
      "  results = pd.concat([results, pd.DataFrame({'Spacing (µm)': spacing * calibration_factor,\n"
     ]
    },
    {
     "name": "stdout",
     "output_type": "stream",
     "text": [
      "Generating heatmap...\n"
     ]
    },
    {
     "name": "stderr",
     "output_type": "stream",
     "text": [
      "/var/folders/_k/plj42bld54n7y_37wjz3qvt00000gp/T/ipykernel_12616/3117465453.py:172: FutureWarning: The behavior of DataFrame concatenation with empty or all-NA entries is deprecated. In a future version, this will no longer exclude empty or all-NA columns when determining the result dtypes. To retain the old behavior, exclude the relevant entries before the concat operation.\n",
      "  results = pd.concat([results, new_row_df], ignore_index=True)\n",
      "No artists with labels found to put in legend.  Note that artists whose label start with an underscore are ignored when legend() is called with no argument.\n"
     ]
    },
    {
     "name": "stdout",
     "output_type": "stream",
     "text": [
      "Done.\n",
      "\n",
      "Processing folder  21/30\n",
      "Calculating autocorrelations...\n"
     ]
    },
    {
     "name": "stderr",
     "output_type": "stream",
     "text": [
      "No artists with labels found to put in legend.  Note that artists whose label start with an underscore are ignored when legend() is called with no argument.\n",
      "No artists with labels found to put in legend.  Note that artists whose label start with an underscore are ignored when legend() is called with no argument.\n",
      "No artists with labels found to put in legend.  Note that artists whose label start with an underscore are ignored when legend() is called with no argument.\n",
      "No artists with labels found to put in legend.  Note that artists whose label start with an underscore are ignored when legend() is called with no argument.\n",
      "No artists with labels found to put in legend.  Note that artists whose label start with an underscore are ignored when legend() is called with no argument.\n",
      "No artists with labels found to put in legend.  Note that artists whose label start with an underscore are ignored when legend() is called with no argument.\n",
      "No artists with labels found to put in legend.  Note that artists whose label start with an underscore are ignored when legend() is called with no argument.\n",
      "No artists with labels found to put in legend.  Note that artists whose label start with an underscore are ignored when legend() is called with no argument.\n",
      "No artists with labels found to put in legend.  Note that artists whose label start with an underscore are ignored when legend() is called with no argument.\n",
      "No artists with labels found to put in legend.  Note that artists whose label start with an underscore are ignored when legend() is called with no argument.\n",
      "No artists with labels found to put in legend.  Note that artists whose label start with an underscore are ignored when legend() is called with no argument.\n",
      "No artists with labels found to put in legend.  Note that artists whose label start with an underscore are ignored when legend() is called with no argument.\n",
      "No artists with labels found to put in legend.  Note that artists whose label start with an underscore are ignored when legend() is called with no argument.\n",
      "No artists with labels found to put in legend.  Note that artists whose label start with an underscore are ignored when legend() is called with no argument.\n",
      "No artists with labels found to put in legend.  Note that artists whose label start with an underscore are ignored when legend() is called with no argument.\n",
      "No artists with labels found to put in legend.  Note that artists whose label start with an underscore are ignored when legend() is called with no argument.\n",
      "No artists with labels found to put in legend.  Note that artists whose label start with an underscore are ignored when legend() is called with no argument.\n",
      "No artists with labels found to put in legend.  Note that artists whose label start with an underscore are ignored when legend() is called with no argument.\n",
      "No artists with labels found to put in legend.  Note that artists whose label start with an underscore are ignored when legend() is called with no argument.\n",
      "No artists with labels found to put in legend.  Note that artists whose label start with an underscore are ignored when legend() is called with no argument.\n",
      "No artists with labels found to put in legend.  Note that artists whose label start with an underscore are ignored when legend() is called with no argument.\n",
      "No artists with labels found to put in legend.  Note that artists whose label start with an underscore are ignored when legend() is called with no argument.\n",
      "No artists with labels found to put in legend.  Note that artists whose label start with an underscore are ignored when legend() is called with no argument.\n",
      "No artists with labels found to put in legend.  Note that artists whose label start with an underscore are ignored when legend() is called with no argument.\n",
      "No artists with labels found to put in legend.  Note that artists whose label start with an underscore are ignored when legend() is called with no argument.\n",
      "No artists with labels found to put in legend.  Note that artists whose label start with an underscore are ignored when legend() is called with no argument.\n",
      "No artists with labels found to put in legend.  Note that artists whose label start with an underscore are ignored when legend() is called with no argument.\n",
      "No artists with labels found to put in legend.  Note that artists whose label start with an underscore are ignored when legend() is called with no argument.\n",
      "No artists with labels found to put in legend.  Note that artists whose label start with an underscore are ignored when legend() is called with no argument.\n",
      "No artists with labels found to put in legend.  Note that artists whose label start with an underscore are ignored when legend() is called with no argument.\n",
      "No artists with labels found to put in legend.  Note that artists whose label start with an underscore are ignored when legend() is called with no argument.\n",
      "No artists with labels found to put in legend.  Note that artists whose label start with an underscore are ignored when legend() is called with no argument.\n",
      "No artists with labels found to put in legend.  Note that artists whose label start with an underscore are ignored when legend() is called with no argument.\n",
      "No artists with labels found to put in legend.  Note that artists whose label start with an underscore are ignored when legend() is called with no argument.\n",
      "No artists with labels found to put in legend.  Note that artists whose label start with an underscore are ignored when legend() is called with no argument.\n",
      "No artists with labels found to put in legend.  Note that artists whose label start with an underscore are ignored when legend() is called with no argument.\n",
      "No artists with labels found to put in legend.  Note that artists whose label start with an underscore are ignored when legend() is called with no argument.\n",
      "No artists with labels found to put in legend.  Note that artists whose label start with an underscore are ignored when legend() is called with no argument.\n",
      "No artists with labels found to put in legend.  Note that artists whose label start with an underscore are ignored when legend() is called with no argument.\n",
      "No artists with labels found to put in legend.  Note that artists whose label start with an underscore are ignored when legend() is called with no argument.\n",
      "No artists with labels found to put in legend.  Note that artists whose label start with an underscore are ignored when legend() is called with no argument.\n",
      "No artists with labels found to put in legend.  Note that artists whose label start with an underscore are ignored when legend() is called with no argument.\n",
      "No artists with labels found to put in legend.  Note that artists whose label start with an underscore are ignored when legend() is called with no argument.\n",
      "No artists with labels found to put in legend.  Note that artists whose label start with an underscore are ignored when legend() is called with no argument.\n",
      "No artists with labels found to put in legend.  Note that artists whose label start with an underscore are ignored when legend() is called with no argument.\n",
      "No artists with labels found to put in legend.  Note that artists whose label start with an underscore are ignored when legend() is called with no argument.\n",
      "No artists with labels found to put in legend.  Note that artists whose label start with an underscore are ignored when legend() is called with no argument.\n",
      "No artists with labels found to put in legend.  Note that artists whose label start with an underscore are ignored when legend() is called with no argument.\n",
      "No artists with labels found to put in legend.  Note that artists whose label start with an underscore are ignored when legend() is called with no argument.\n",
      "No artists with labels found to put in legend.  Note that artists whose label start with an underscore are ignored when legend() is called with no argument.\n",
      "No artists with labels found to put in legend.  Note that artists whose label start with an underscore are ignored when legend() is called with no argument.\n",
      "No artists with labels found to put in legend.  Note that artists whose label start with an underscore are ignored when legend() is called with no argument.\n",
      "No artists with labels found to put in legend.  Note that artists whose label start with an underscore are ignored when legend() is called with no argument.\n"
     ]
    },
    {
     "name": "stderr",
     "output_type": "stream",
     "text": [
      "No artists with labels found to put in legend.  Note that artists whose label start with an underscore are ignored when legend() is called with no argument.\n",
      "No artists with labels found to put in legend.  Note that artists whose label start with an underscore are ignored when legend() is called with no argument.\n",
      "No artists with labels found to put in legend.  Note that artists whose label start with an underscore are ignored when legend() is called with no argument.\n",
      "No artists with labels found to put in legend.  Note that artists whose label start with an underscore are ignored when legend() is called with no argument.\n",
      "No artists with labels found to put in legend.  Note that artists whose label start with an underscore are ignored when legend() is called with no argument.\n",
      "No artists with labels found to put in legend.  Note that artists whose label start with an underscore are ignored when legend() is called with no argument.\n",
      "No artists with labels found to put in legend.  Note that artists whose label start with an underscore are ignored when legend() is called with no argument.\n",
      "No artists with labels found to put in legend.  Note that artists whose label start with an underscore are ignored when legend() is called with no argument.\n",
      "No artists with labels found to put in legend.  Note that artists whose label start with an underscore are ignored when legend() is called with no argument.\n",
      "No artists with labels found to put in legend.  Note that artists whose label start with an underscore are ignored when legend() is called with no argument.\n",
      "No artists with labels found to put in legend.  Note that artists whose label start with an underscore are ignored when legend() is called with no argument.\n",
      "No artists with labels found to put in legend.  Note that artists whose label start with an underscore are ignored when legend() is called with no argument.\n",
      "No artists with labels found to put in legend.  Note that artists whose label start with an underscore are ignored when legend() is called with no argument.\n",
      "No artists with labels found to put in legend.  Note that artists whose label start with an underscore are ignored when legend() is called with no argument.\n",
      "No artists with labels found to put in legend.  Note that artists whose label start with an underscore are ignored when legend() is called with no argument.\n",
      "No artists with labels found to put in legend.  Note that artists whose label start with an underscore are ignored when legend() is called with no argument.\n",
      "No artists with labels found to put in legend.  Note that artists whose label start with an underscore are ignored when legend() is called with no argument.\n",
      "No artists with labels found to put in legend.  Note that artists whose label start with an underscore are ignored when legend() is called with no argument.\n",
      "No artists with labels found to put in legend.  Note that artists whose label start with an underscore are ignored when legend() is called with no argument.\n",
      "No artists with labels found to put in legend.  Note that artists whose label start with an underscore are ignored when legend() is called with no argument.\n",
      "No artists with labels found to put in legend.  Note that artists whose label start with an underscore are ignored when legend() is called with no argument.\n",
      "No artists with labels found to put in legend.  Note that artists whose label start with an underscore are ignored when legend() is called with no argument.\n",
      "No artists with labels found to put in legend.  Note that artists whose label start with an underscore are ignored when legend() is called with no argument.\n",
      "No artists with labels found to put in legend.  Note that artists whose label start with an underscore are ignored when legend() is called with no argument.\n",
      "No artists with labels found to put in legend.  Note that artists whose label start with an underscore are ignored when legend() is called with no argument.\n",
      "No artists with labels found to put in legend.  Note that artists whose label start with an underscore are ignored when legend() is called with no argument.\n",
      "No artists with labels found to put in legend.  Note that artists whose label start with an underscore are ignored when legend() is called with no argument.\n",
      "No artists with labels found to put in legend.  Note that artists whose label start with an underscore are ignored when legend() is called with no argument.\n",
      "No artists with labels found to put in legend.  Note that artists whose label start with an underscore are ignored when legend() is called with no argument.\n",
      "No artists with labels found to put in legend.  Note that artists whose label start with an underscore are ignored when legend() is called with no argument.\n",
      "No artists with labels found to put in legend.  Note that artists whose label start with an underscore are ignored when legend() is called with no argument.\n",
      "No artists with labels found to put in legend.  Note that artists whose label start with an underscore are ignored when legend() is called with no argument.\n",
      "No artists with labels found to put in legend.  Note that artists whose label start with an underscore are ignored when legend() is called with no argument.\n",
      "No artists with labels found to put in legend.  Note that artists whose label start with an underscore are ignored when legend() is called with no argument.\n",
      "No artists with labels found to put in legend.  Note that artists whose label start with an underscore are ignored when legend() is called with no argument.\n",
      "No artists with labels found to put in legend.  Note that artists whose label start with an underscore are ignored when legend() is called with no argument.\n"
     ]
    },
    {
     "name": "stdout",
     "output_type": "stream",
     "text": [
      "Generating heatmap...\n",
      "Done.\n",
      "\n",
      "Processing folder  22/30\n",
      "Calculating autocorrelations...\n"
     ]
    },
    {
     "name": "stderr",
     "output_type": "stream",
     "text": [
      "/var/folders/_k/plj42bld54n7y_37wjz3qvt00000gp/T/ipykernel_12616/3117465453.py:135: FutureWarning: The behavior of DataFrame concatenation with empty or all-NA entries is deprecated. In a future version, this will no longer exclude empty or all-NA columns when determining the result dtypes. To retain the old behavior, exclude the relevant entries before the concat operation.\n",
      "  results = pd.concat([results, pd.DataFrame({'Spacing (µm)': spacing * calibration_factor,\n"
     ]
    },
    {
     "name": "stdout",
     "output_type": "stream",
     "text": [
      "Generating heatmap...\n",
      "Done.\n",
      "\n",
      "Processing folder  23/30\n",
      "Calculating autocorrelations...\n"
     ]
    },
    {
     "name": "stderr",
     "output_type": "stream",
     "text": [
      "/var/folders/_k/plj42bld54n7y_37wjz3qvt00000gp/T/ipykernel_12616/3117465453.py:135: FutureWarning: The behavior of DataFrame concatenation with empty or all-NA entries is deprecated. In a future version, this will no longer exclude empty or all-NA columns when determining the result dtypes. To retain the old behavior, exclude the relevant entries before the concat operation.\n",
      "  results = pd.concat([results, pd.DataFrame({'Spacing (µm)': spacing * calibration_factor,\n"
     ]
    },
    {
     "name": "stdout",
     "output_type": "stream",
     "text": [
      "Generating heatmap...\n",
      "Done.\n",
      "\n",
      "Processing folder  24/30\n",
      "Calculating autocorrelations...\n"
     ]
    },
    {
     "name": "stderr",
     "output_type": "stream",
     "text": [
      "/var/folders/_k/plj42bld54n7y_37wjz3qvt00000gp/T/ipykernel_12616/3117465453.py:135: FutureWarning: The behavior of DataFrame concatenation with empty or all-NA entries is deprecated. In a future version, this will no longer exclude empty or all-NA columns when determining the result dtypes. To retain the old behavior, exclude the relevant entries before the concat operation.\n",
      "  results = pd.concat([results, pd.DataFrame({'Spacing (µm)': spacing * calibration_factor,\n"
     ]
    },
    {
     "name": "stdout",
     "output_type": "stream",
     "text": [
      "Generating heatmap...\n",
      "Done.\n",
      "\n",
      "Processing folder  25/30\n",
      "Calculating autocorrelations...\n"
     ]
    },
    {
     "name": "stderr",
     "output_type": "stream",
     "text": [
      "/var/folders/_k/plj42bld54n7y_37wjz3qvt00000gp/T/ipykernel_12616/3117465453.py:135: FutureWarning: The behavior of DataFrame concatenation with empty or all-NA entries is deprecated. In a future version, this will no longer exclude empty or all-NA columns when determining the result dtypes. To retain the old behavior, exclude the relevant entries before the concat operation.\n",
      "  results = pd.concat([results, pd.DataFrame({'Spacing (µm)': spacing * calibration_factor,\n",
      "No artists with labels found to put in legend.  Note that artists whose label start with an underscore are ignored when legend() is called with no argument.\n",
      "No artists with labels found to put in legend.  Note that artists whose label start with an underscore are ignored when legend() is called with no argument.\n",
      "No artists with labels found to put in legend.  Note that artists whose label start with an underscore are ignored when legend() is called with no argument.\n",
      "No artists with labels found to put in legend.  Note that artists whose label start with an underscore are ignored when legend() is called with no argument.\n",
      "No artists with labels found to put in legend.  Note that artists whose label start with an underscore are ignored when legend() is called with no argument.\n",
      "No artists with labels found to put in legend.  Note that artists whose label start with an underscore are ignored when legend() is called with no argument.\n",
      "No artists with labels found to put in legend.  Note that artists whose label start with an underscore are ignored when legend() is called with no argument.\n",
      "No artists with labels found to put in legend.  Note that artists whose label start with an underscore are ignored when legend() is called with no argument.\n",
      "No artists with labels found to put in legend.  Note that artists whose label start with an underscore are ignored when legend() is called with no argument.\n",
      "No artists with labels found to put in legend.  Note that artists whose label start with an underscore are ignored when legend() is called with no argument.\n",
      "No artists with labels found to put in legend.  Note that artists whose label start with an underscore are ignored when legend() is called with no argument.\n",
      "No artists with labels found to put in legend.  Note that artists whose label start with an underscore are ignored when legend() is called with no argument.\n",
      "No artists with labels found to put in legend.  Note that artists whose label start with an underscore are ignored when legend() is called with no argument.\n",
      "No artists with labels found to put in legend.  Note that artists whose label start with an underscore are ignored when legend() is called with no argument.\n",
      "No artists with labels found to put in legend.  Note that artists whose label start with an underscore are ignored when legend() is called with no argument.\n",
      "No artists with labels found to put in legend.  Note that artists whose label start with an underscore are ignored when legend() is called with no argument.\n",
      "No artists with labels found to put in legend.  Note that artists whose label start with an underscore are ignored when legend() is called with no argument.\n",
      "No artists with labels found to put in legend.  Note that artists whose label start with an underscore are ignored when legend() is called with no argument.\n",
      "No artists with labels found to put in legend.  Note that artists whose label start with an underscore are ignored when legend() is called with no argument.\n",
      "No artists with labels found to put in legend.  Note that artists whose label start with an underscore are ignored when legend() is called with no argument.\n",
      "No artists with labels found to put in legend.  Note that artists whose label start with an underscore are ignored when legend() is called with no argument.\n",
      "No artists with labels found to put in legend.  Note that artists whose label start with an underscore are ignored when legend() is called with no argument.\n",
      "No artists with labels found to put in legend.  Note that artists whose label start with an underscore are ignored when legend() is called with no argument.\n",
      "No artists with labels found to put in legend.  Note that artists whose label start with an underscore are ignored when legend() is called with no argument.\n",
      "No artists with labels found to put in legend.  Note that artists whose label start with an underscore are ignored when legend() is called with no argument.\n",
      "No artists with labels found to put in legend.  Note that artists whose label start with an underscore are ignored when legend() is called with no argument.\n",
      "No artists with labels found to put in legend.  Note that artists whose label start with an underscore are ignored when legend() is called with no argument.\n",
      "No artists with labels found to put in legend.  Note that artists whose label start with an underscore are ignored when legend() is called with no argument.\n"
     ]
    },
    {
     "name": "stdout",
     "output_type": "stream",
     "text": [
      "Generating heatmap...\n",
      "Done.\n",
      "\n",
      "Processing folder  26/30\n",
      "Calculating autocorrelations...\n"
     ]
    },
    {
     "name": "stderr",
     "output_type": "stream",
     "text": [
      "/var/folders/_k/plj42bld54n7y_37wjz3qvt00000gp/T/ipykernel_12616/3117465453.py:135: FutureWarning: The behavior of DataFrame concatenation with empty or all-NA entries is deprecated. In a future version, this will no longer exclude empty or all-NA columns when determining the result dtypes. To retain the old behavior, exclude the relevant entries before the concat operation.\n",
      "  results = pd.concat([results, pd.DataFrame({'Spacing (µm)': spacing * calibration_factor,\n"
     ]
    },
    {
     "name": "stdout",
     "output_type": "stream",
     "text": [
      "Generating heatmap...\n",
      "Done.\n",
      "\n",
      "Processing folder  27/30\n",
      "Calculating autocorrelations...\n"
     ]
    },
    {
     "name": "stderr",
     "output_type": "stream",
     "text": [
      "/var/folders/_k/plj42bld54n7y_37wjz3qvt00000gp/T/ipykernel_12616/3117465453.py:135: FutureWarning: The behavior of DataFrame concatenation with empty or all-NA entries is deprecated. In a future version, this will no longer exclude empty or all-NA columns when determining the result dtypes. To retain the old behavior, exclude the relevant entries before the concat operation.\n",
      "  results = pd.concat([results, pd.DataFrame({'Spacing (µm)': spacing * calibration_factor,\n"
     ]
    },
    {
     "name": "stdout",
     "output_type": "stream",
     "text": [
      "Generating heatmap...\n",
      "Done.\n",
      "\n",
      "Processing folder  28/30\n",
      "Calculating autocorrelations...\n"
     ]
    },
    {
     "name": "stderr",
     "output_type": "stream",
     "text": [
      "/var/folders/_k/plj42bld54n7y_37wjz3qvt00000gp/T/ipykernel_12616/3117465453.py:135: FutureWarning: The behavior of DataFrame concatenation with empty or all-NA entries is deprecated. In a future version, this will no longer exclude empty or all-NA columns when determining the result dtypes. To retain the old behavior, exclude the relevant entries before the concat operation.\n",
      "  results = pd.concat([results, pd.DataFrame({'Spacing (µm)': spacing * calibration_factor,\n"
     ]
    },
    {
     "name": "stdout",
     "output_type": "stream",
     "text": [
      "Generating heatmap...\n",
      "Done.\n",
      "\n",
      "Processing folder  29/30\n",
      "Calculating autocorrelations...\n"
     ]
    },
    {
     "name": "stderr",
     "output_type": "stream",
     "text": [
      "/var/folders/_k/plj42bld54n7y_37wjz3qvt00000gp/T/ipykernel_12616/3117465453.py:135: FutureWarning: The behavior of DataFrame concatenation with empty or all-NA entries is deprecated. In a future version, this will no longer exclude empty or all-NA columns when determining the result dtypes. To retain the old behavior, exclude the relevant entries before the concat operation.\n",
      "  results = pd.concat([results, pd.DataFrame({'Spacing (µm)': spacing * calibration_factor,\n"
     ]
    },
    {
     "name": "stdout",
     "output_type": "stream",
     "text": [
      "Generating heatmap...\n",
      "Done.\n",
      "\n",
      "Processing folder  30/30\n",
      "Calculating autocorrelations...\n"
     ]
    },
    {
     "name": "stderr",
     "output_type": "stream",
     "text": [
      "/var/folders/_k/plj42bld54n7y_37wjz3qvt00000gp/T/ipykernel_12616/3117465453.py:135: FutureWarning: The behavior of DataFrame concatenation with empty or all-NA entries is deprecated. In a future version, this will no longer exclude empty or all-NA columns when determining the result dtypes. To retain the old behavior, exclude the relevant entries before the concat operation.\n",
      "  results = pd.concat([results, pd.DataFrame({'Spacing (µm)': spacing * calibration_factor,\n",
      "No artists with labels found to put in legend.  Note that artists whose label start with an underscore are ignored when legend() is called with no argument.\n",
      "No artists with labels found to put in legend.  Note that artists whose label start with an underscore are ignored when legend() is called with no argument.\n",
      "No artists with labels found to put in legend.  Note that artists whose label start with an underscore are ignored when legend() is called with no argument.\n",
      "No artists with labels found to put in legend.  Note that artists whose label start with an underscore are ignored when legend() is called with no argument.\n",
      "No artists with labels found to put in legend.  Note that artists whose label start with an underscore are ignored when legend() is called with no argument.\n",
      "No artists with labels found to put in legend.  Note that artists whose label start with an underscore are ignored when legend() is called with no argument.\n",
      "No artists with labels found to put in legend.  Note that artists whose label start with an underscore are ignored when legend() is called with no argument.\n",
      "No artists with labels found to put in legend.  Note that artists whose label start with an underscore are ignored when legend() is called with no argument.\n",
      "No artists with labels found to put in legend.  Note that artists whose label start with an underscore are ignored when legend() is called with no argument.\n",
      "No artists with labels found to put in legend.  Note that artists whose label start with an underscore are ignored when legend() is called with no argument.\n",
      "No artists with labels found to put in legend.  Note that artists whose label start with an underscore are ignored when legend() is called with no argument.\n",
      "No artists with labels found to put in legend.  Note that artists whose label start with an underscore are ignored when legend() is called with no argument.\n",
      "No artists with labels found to put in legend.  Note that artists whose label start with an underscore are ignored when legend() is called with no argument.\n",
      "No artists with labels found to put in legend.  Note that artists whose label start with an underscore are ignored when legend() is called with no argument.\n",
      "No artists with labels found to put in legend.  Note that artists whose label start with an underscore are ignored when legend() is called with no argument.\n",
      "No artists with labels found to put in legend.  Note that artists whose label start with an underscore are ignored when legend() is called with no argument.\n",
      "No artists with labels found to put in legend.  Note that artists whose label start with an underscore are ignored when legend() is called with no argument.\n",
      "No artists with labels found to put in legend.  Note that artists whose label start with an underscore are ignored when legend() is called with no argument.\n",
      "No artists with labels found to put in legend.  Note that artists whose label start with an underscore are ignored when legend() is called with no argument.\n",
      "No artists with labels found to put in legend.  Note that artists whose label start with an underscore are ignored when legend() is called with no argument.\n",
      "No artists with labels found to put in legend.  Note that artists whose label start with an underscore are ignored when legend() is called with no argument.\n",
      "No artists with labels found to put in legend.  Note that artists whose label start with an underscore are ignored when legend() is called with no argument.\n",
      "No artists with labels found to put in legend.  Note that artists whose label start with an underscore are ignored when legend() is called with no argument.\n",
      "No artists with labels found to put in legend.  Note that artists whose label start with an underscore are ignored when legend() is called with no argument.\n",
      "No artists with labels found to put in legend.  Note that artists whose label start with an underscore are ignored when legend() is called with no argument.\n",
      "No artists with labels found to put in legend.  Note that artists whose label start with an underscore are ignored when legend() is called with no argument.\n",
      "No artists with labels found to put in legend.  Note that artists whose label start with an underscore are ignored when legend() is called with no argument.\n",
      "No artists with labels found to put in legend.  Note that artists whose label start with an underscore are ignored when legend() is called with no argument.\n",
      "No artists with labels found to put in legend.  Note that artists whose label start with an underscore are ignored when legend() is called with no argument.\n",
      "No artists with labels found to put in legend.  Note that artists whose label start with an underscore are ignored when legend() is called with no argument.\n",
      "No artists with labels found to put in legend.  Note that artists whose label start with an underscore are ignored when legend() is called with no argument.\n",
      "No artists with labels found to put in legend.  Note that artists whose label start with an underscore are ignored when legend() is called with no argument.\n",
      "No artists with labels found to put in legend.  Note that artists whose label start with an underscore are ignored when legend() is called with no argument.\n",
      "No artists with labels found to put in legend.  Note that artists whose label start with an underscore are ignored when legend() is called with no argument.\n",
      "No artists with labels found to put in legend.  Note that artists whose label start with an underscore are ignored when legend() is called with no argument.\n",
      "No artists with labels found to put in legend.  Note that artists whose label start with an underscore are ignored when legend() is called with no argument.\n",
      "No artists with labels found to put in legend.  Note that artists whose label start with an underscore are ignored when legend() is called with no argument.\n",
      "No artists with labels found to put in legend.  Note that artists whose label start with an underscore are ignored when legend() is called with no argument.\n",
      "No artists with labels found to put in legend.  Note that artists whose label start with an underscore are ignored when legend() is called with no argument.\n",
      "No artists with labels found to put in legend.  Note that artists whose label start with an underscore are ignored when legend() is called with no argument.\n",
      "No artists with labels found to put in legend.  Note that artists whose label start with an underscore are ignored when legend() is called with no argument.\n",
      "No artists with labels found to put in legend.  Note that artists whose label start with an underscore are ignored when legend() is called with no argument.\n"
     ]
    },
    {
     "name": "stdout",
     "output_type": "stream",
     "text": [
      "Generating heatmap...\n",
      "Done.\n",
      "\n",
      "Finished!\n"
     ]
    }
   ],
   "source": [
    "## -------------------------- ##\n",
    "## ---- Import libraries ---- ##\n",
    "## -------------------------- ##\n",
    "    \n",
    "import numpy as np\n",
    "import pandas as pd\n",
    "import glob\n",
    "import re\n",
    "import os\n",
    "from scipy.signal import find_peaks, argrelextrema\n",
    "import matplotlib.pyplot as plt\n",
    "import tifffile as tf\n",
    "from scipy.interpolate import interp1d\n",
    "from scipy.ndimage import gaussian_filter1d\n",
    "\n",
    "\n",
    "## -------------------------- ##\n",
    "## ---- Define variables ---- ##\n",
    "## -------------------------- ##\n",
    "\n",
    "# Specify the master path (a folder containing subfolders, each containing block repetition maps calculated using a specific test image using and all reference blocks)\n",
    "# For example, the master folder \"/user/spectrin/optimization/sred/\" would contain subfolders named \"001\", \"002\", (...).\n",
    "# Each subfolder (e.g., \"001\") would contain image files (in TIFF format), which are repetition maps calculated for a given test sample.\n",
    "# The repetition maps are named \"sred_X_Y.tif\" where \"X\" and \"Y\" are the inter-ring spacings and ring heights, in pixels (e.g., \"sred_12_33.tif\").\n",
    "folders_path = '/Users/ammendes/spectrin/Optimization/CTRL/sred/'\n",
    "\n",
    "# Get list of subfolders containing repetition maps for each input image\n",
    "folderlist = os.listdir(folders_path)\n",
    "pattern = r'(\\d{3})'\n",
    "folderlist = [folder for folder in folderlist if re.match(pattern, folder)]\n",
    "folderlist = sorted(folderlist, key=lambda x: (int(re.findall(r\"\\d+\", x)[0])))\n",
    "\n",
    "# Create dataframe to store heatmap results\n",
    "final_df = pd.DataFrame(columns=['max_amplitude', 'spacing', 'height'])\n",
    "\n",
    "for folder in range(len(folderlist)):\n",
    "    \n",
    "    print('Processing folder ', str(folder+1) + '/' + str(len(folderlist)))\n",
    "\n",
    "    # Specify the folder path containing repetition maps\n",
    "    input_path = folders_path + '/' + folderlist[folder] + '/' \n",
    "    output_path = folders_path + '/' + folderlist[folder] + '/autocorrelations/' # This is where the autocorrelation results will be stored\n",
    "    os.makedirs(output_path, exist_ok=True) # Create path if it doesn't exist\n",
    "\n",
    "    # Get file list\n",
    "    filelist = os.listdir(input_path)\n",
    "\n",
    "    # Define regular expression pattern to match files with the correct format\n",
    "    pattern = r'sred_(\\d{1,2})_(\\d{1,2})\\.tif'\n",
    "\n",
    "    # Filter files based on name pattern, excluding files that don't match the pattern\n",
    "    filelist = [file for file in filelist if re.match(pattern, file)]\n",
    "\n",
    "    # Sort the files based on the values in the name\n",
    "    filelist = sorted(filelist, key=lambda x: (int(re.findall(r\"\\d+\", x)[0]), int(re.findall(r\"\\d+\", x)[1])))\n",
    "\n",
    "    # Create table to store results\n",
    "    results = pd.DataFrame(columns=['Spacing (µm)', 'Height (µm)', 'First Harmonic Position (µm)', 'First Harmonic Relative Amplitude'])\n",
    "\n",
    "    # Define pixel size\n",
    "    calibration_factor = 0.016\n",
    "\n",
    "\n",
    "    ## ------------------------------------ ##\n",
    "    ## ---- Calculate autocorrelations ---- ##\n",
    "    ## ------------------------------------ ##\n",
    "\n",
    "    print('Calculating autocorrelations...')\n",
    "    for file in range(len(filelist)):\n",
    "        print(str(file+1)+'/'+str(len(filelist)))\n",
    "        \n",
    "        # Import image\n",
    "        image = tf.imread(input_path + filelist[file])\n",
    "        image = np.square(image) # Apply non-linear mapping to enhance structural features\n",
    "\n",
    "        # Define region of interest (entire image in our case)\n",
    "        x1, y1 = 0, 0  # top-left corner\n",
    "        x2, y2 = image.shape[1], image.shape[0]  # bottom-right corner\n",
    "\n",
    "        # Get inter-ring spacing and ring height from file names\n",
    "        match = re.match(pattern, filelist[file])\n",
    "        spacing = int(match.group(1))\n",
    "        height = int(match.group(2))\n",
    "\n",
    "        # Get intensity profile\n",
    "        intensity_profile = np.sum(image[y1:y2, x1:x2], axis=0)\n",
    "\n",
    "        # Create x-axis representing pixel position\n",
    "        x_axis_original = np.arange(x1, x2)\n",
    "\n",
    "        # Calculate the autocorrelation of the intensity profile\n",
    "        autocorrelation = np.correlate(intensity_profile, intensity_profile, mode='full')\n",
    "        autocorrelation /= np.max(autocorrelation)  # Normalize\n",
    "\n",
    "        # Keep only the right half of the autocorrelation\n",
    "        lag = np.arange(-len(intensity_profile) + 1, len(intensity_profile))\n",
    "\n",
    "        # Create the lag (x-axis) for the autocorrelation in micrometers\n",
    "        lag_pixels = np.arange(-len(intensity_profile) + 1, len(intensity_profile))\n",
    "        lag_um = lag_pixels * calibration_factor\n",
    "\n",
    "        # Keep only the right half (positive lag) of the autocorrelation\n",
    "        positive_lag_indices = lag_pixels >= 0\n",
    "        lag_positive = lag_um[positive_lag_indices]\n",
    "        autocorrelation_positive = autocorrelation[positive_lag_indices]\n",
    "\n",
    "        # Interpolate autocorrelation to make it continuous\n",
    "        interp_func_auto = interp1d(lag_positive, autocorrelation_positive, kind='cubic')\n",
    "        lag_positive = np.linspace(min(lag_positive), max(lag_positive), 2000)\n",
    "        autocorrelation_positive = interp_func_auto(lag_positive)\n",
    "\n",
    "        # Smooth the interpolated autocorrelation using a Gaussian filter (removes some unwanted noise)\n",
    "        sigma = 1.0\n",
    "        autocorrelation_positive = gaussian_filter1d(autocorrelation_positive, sigma)\n",
    "\n",
    "        # Find local maxima in the autocorrelation\n",
    "        peaks, _ = find_peaks(autocorrelation_positive, prominence = 0.005)\n",
    "\n",
    "        # Find local minima in the autocorrelation\n",
    "        minima_indices = argrelextrema(autocorrelation_positive, np.less)\n",
    "\n",
    "        # Check if local maxima and minima were found\n",
    "        if len(peaks) > 0 and len(minima_indices[0]) > 0:\n",
    "            # Calculate the position of the first local maximum in micrometers\n",
    "            first_peak_um = lag_positive[peaks[0]]\n",
    "\n",
    "            # Find the nearest local minimum to the left of the first peak\n",
    "            left_minima = minima_indices[0][minima_indices[0] < peaks[0]]\n",
    "            if len(left_minima) > 0:\n",
    "                nearest_left_minima = left_minima[-1]\n",
    "            else:\n",
    "                nearest_left_minima = minima_indices[0][0]\n",
    "\n",
    "            # Find the nearest local minimum to the right of the first peak\n",
    "            right_minima = minima_indices[0][minima_indices[0] > peaks[0]]\n",
    "            if len(right_minima) > 0:\n",
    "                nearest_right_minima = right_minima[0]\n",
    "            else:\n",
    "                nearest_right_minima = minima_indices[0][-1]\n",
    "\n",
    "            # Calculate the average of the two nearest local minima\n",
    "            avg_minima_height = (autocorrelation_positive[nearest_left_minima] + autocorrelation_positive[nearest_right_minima]) / 2.0\n",
    "\n",
    "            # Calculate the height of the first harmonic by subtracting its height from the average of the minima\n",
    "            peak_height = autocorrelation_positive[peaks[0]]\n",
    "            relative_peak_height = peak_height - avg_minima_height\n",
    "\n",
    "            # Add results to table\n",
    "            results = pd.concat([results, pd.DataFrame({'Spacing (µm)': spacing * calibration_factor,\n",
    "                                                        'Height (µm)': height * calibration_factor,\n",
    "                                                        'First Harmonic Position (µm)': [first_peak_um],\n",
    "                                                        'First Harmonic Relative Amplitude': [relative_peak_height]})],\n",
    "                                                        ignore_index=True)\n",
    "\n",
    "            # Plot the right half of the normalized autocorrelation with the local maxima and minima around the first harmonic highlighted\n",
    "            plt.plot(lag_positive, autocorrelation_positive)\n",
    "            plt.plot(first_peak_um, peak_height, 'mo', label='First Harmonic')\n",
    "            plt.plot(lag_positive[nearest_left_minima], autocorrelation_positive[nearest_left_minima], 'go', label='Local Minima')\n",
    "            plt.plot(lag_positive[nearest_right_minima], autocorrelation_positive[nearest_right_minima], 'go')\n",
    "\n",
    "            plt.xlabel('Distance (µm)')\n",
    "            plt.ylabel('Normalized Autocorrelation')\n",
    "            plt.title('Normalized Autocorrelation of Intensity Profile')\n",
    "            plt.xlim(0, 1.5)\n",
    "            plt.legend()\n",
    "            plt.grid()\n",
    "\n",
    "            # Save plot to folder\n",
    "            plt.savefig(f'{output_path}autocorrelation_{spacing}_{height}.png', dpi=300)  # Customize the filename as needed\n",
    "            plt.close('all')\n",
    "\n",
    "            # Print the first harmonic's position and amplitude\n",
    "            print(\"First Harmonic position:\", first_peak_um, \"µm\")\n",
    "            print(\"First Harmonic amplitude:\", relative_peak_height)\n",
    "        else:\n",
    "            print(\"No local maxima or minima were found in the autocorrelation.\")\n",
    "            new_row_data = {\n",
    "                'Spacing (µm)': spacing * calibration_factor,\n",
    "                'Height (µm)': height * calibration_factor,\n",
    "                'First Harmonic Position (µm)': 0.0,\n",
    "                'First Harmonic Relative Amplitude': 0.0\n",
    "            }\n",
    "\n",
    "            new_row_df = pd.DataFrame(new_row_data, index=[len(results)])\n",
    "\n",
    "            results = pd.concat([results, new_row_df], ignore_index=True)\n",
    "\n",
    "            # Plot the right half of the normalized autocorrelation with the local maxima and minima around the first harmonic highlighted\n",
    "            plt.plot(lag_positive, autocorrelation_positive)\n",
    "            #plt.plot(first_peak_um, peak_height, 'mo', label='First Harmonic')\n",
    "            #plt.plot(lag_positive[nearest_left_minima], autocorrelation_positive[nearest_left_minima], 'go', label='Local Minima')\n",
    "            #plt.plot(lag_positive[nearest_right_minima], autocorrelation_positive[nearest_right_minima], 'go')\n",
    "\n",
    "            plt.xlabel('Distance (µm)')\n",
    "            plt.ylabel('Normalized Autocorrelation')\n",
    "            plt.title('Normalized Autocorrelation of Intensity Profile')\n",
    "            plt.xlim(0, 1.5)\n",
    "            plt.legend()\n",
    "            plt.grid()\n",
    "            #plt.show()\n",
    "\n",
    "            # Save plot to folder\n",
    "            plt.savefig(f'{output_path}autocorrelation_{spacing}_{height}.png', dpi=300)  # Customize the filename as needed\n",
    "            plt.close('all')\n",
    "\n",
    "    # Save results to CSV\n",
    "    results.to_csv(output_path+'results.csv', index=False)\n",
    "\n",
    "\n",
    "    ## -------------------------- ##\n",
    "    ## ---- Generate heatmap ---- ##\n",
    "    ## -------------------------- ##\n",
    "\n",
    "    print('Generating heatmap...')\n",
    "\n",
    "    # Read the CSV file into a DataFrame\n",
    "    df = pd.read_csv(output_path + 'results.csv')\n",
    "\n",
    "    # Pivot the DataFrame to create the heatmap data\n",
    "    heatmap_data = pd.pivot_table(df, values='First Harmonic Relative Amplitude', index='Height (µm)', columns='Spacing (µm)')\n",
    "\n",
    "    # Create the heatmap\n",
    "    plt.figure(figsize=(10, 9))\n",
    "    plt.imshow(heatmap_data, cmap='viridis', aspect='auto', origin='lower', \n",
    "               extent=[heatmap_data.columns.min()-0.015, heatmap_data.columns.max()+0.015,\n",
    "                       heatmap_data.index.min()-0.015, heatmap_data.index.max()+0.015])\n",
    "\n",
    "    colorbar = plt.colorbar(label='First Harmonic Relative Amplitude')\n",
    "    colorbar.ax.yaxis.label.set_fontsize(18)\n",
    "    colorbar.ax.yaxis.labelpad = 12\n",
    "\n",
    "    plt.xlabel('Line spacing (µm)', fontsize=18, labelpad=12)\n",
    "    plt.ylabel('Line height (µm)', fontsize=18, labelpad=12)\n",
    "    plt.title('Autocorrelation analysis', fontsize=18, pad=12)\n",
    "\n",
    "    # Calculate and set custom tick positions and labels based on data range\n",
    "    x_ticks = np.linspace(heatmap_data.columns.min(), heatmap_data.columns.max(), heatmap_data.shape[1])\n",
    "    y_ticks = np.linspace(heatmap_data.index.min(), heatmap_data.index.max(), heatmap_data.shape[0])\n",
    "\n",
    "    plt.xticks(x_ticks, [f'{x:.3f}' for x in x_ticks], rotation=25)\n",
    "    plt.yticks(y_ticks, [f'{y*0.7:.3f}' for y in y_ticks])\n",
    "\n",
    "    #plt.show()\n",
    "    plt.savefig(output_path + 'heatmap.png', dpi=300)\n",
    "    plt.close('all')\n",
    "\n",
    "    # Calculate heatmap maximum value\n",
    "    max_amplitude = heatmap_data.max().max()\n",
    "    \n",
    "    # Find the optimised parameter values\n",
    "    values = heatmap_data.stack().idxmax()\n",
    "    \n",
    "    # Store values in dataframe\n",
    "    final_df.loc[folder] = [max_amplitude, values[1], values[0]]\n",
    "    \n",
    "    print('Done.')\n",
    "    print('')\n",
    "\n",
    "\n",
    "## ------------------------------ ##\n",
    "## ---- Save heatmap results ---- ##\n",
    "## ------------------------------ ##\n",
    "\n",
    "final_df.to_csv(folders_path+'heatmap_data.csv', index=False)\n",
    "    \n",
    "print('Done!')"
   ]
  },
  {
   "cell_type": "markdown",
   "id": "76ac00fc",
   "metadata": {},
   "source": [
    "## Now we can calculate some statistics!\n"
   ]
  },
  {
   "cell_type": "code",
   "execution_count": 9,
   "id": "1510ed24",
   "metadata": {},
   "outputs": [],
   "source": [
    "import pandas as pd\n",
    "\n",
    "# Get CTRL data\n",
    "ctrl_data = pd.read_csv('/Users/user/Optimization/CTRL/sred/heatmap_data.csv') # Change accordingly\n",
    "\n",
    "ctrl_amplitude_median = ctrl_data['max_amplitude'].median()\n",
    "ctrl_amplitude_mean = ctrl_data['max_amplitude'].mean()\n",
    "ctrl_amplitude_std = ctrl_data['max_amplitude'].std()\n",
    "\n",
    "ctrl_spacing_median = ctrl_data['spacing'].median()\n",
    "ctrl_spacing_mean = ctrl_data['spacing'].mean()\n",
    "ctrl_spacing_std = ctrl_data['spacing'].std()\n",
    "\n",
    "ctrl_height_median = ctrl_data['height'].median()\n",
    "ctrl_height_mean = ctrl_data['height'].mean()\n",
    "ctrl_height_std = ctrl_data['height'].std()\n",
    "\n",
    "# Get SWIN data\n",
    "swin_data = pd.read_csv('/Users/user/Optimization/SWIN/sred/heatmap_data.csv') # Change accordingly\n",
    "\n",
    "swin_amplitude_median = swin_data['max_amplitude'].median()\n",
    "swin_amplitude_mean = swin_data['max_amplitude'].mean()\n",
    "swin_amplitude_std = swin_data['max_amplitude'].std()\n",
    "\n",
    "swin_spacing_median = swin_data['spacing'].median()\n",
    "swin_spacing_mean = swin_data['spacing'].mean()\n",
    "swin_spacing_std = swin_data['spacing'].std()\n",
    "\n",
    "swin_height_median = swin_data['height'].median()\n",
    "swin_height_mean = swin_data['height'].mean()\n",
    "swin_height_std = swin_data['height'].std()\n"
   ]
  },
  {
   "cell_type": "code",
   "execution_count": 24,
   "id": "f978d0ff",
   "metadata": {},
   "outputs": [
    {
     "name": "stdout",
     "output_type": "stream",
     "text": [
      "Mann-Whitbey U Test on spacings:  MannwhitneyuResult(statistic=362.5, pvalue=0.18323879424279654)\n"
     ]
    }
   ],
   "source": [
    "from scipy.stats import mannwhitneyu\n",
    "\n",
    "# Mann-Whitney test on inter-ring spacings\n",
    "mannwhitneyu_result = mannwhitneyu(ctrl_data['spacing'], swin_data['spacing'], alternative='two-sided')\n",
    "print('Mann-Whitbey U Test on spacings: ', mannwhitneyu_result)\n"
   ]
  },
  {
   "cell_type": "code",
   "execution_count": 25,
   "id": "07d858f7",
   "metadata": {},
   "outputs": [
    {
     "data": {
      "image/png": "[encoded data removed]",
      "text/plain": [
       "<Figure size 360x360 with 1 Axes>"
      ]
     },
     "metadata": {
      "needs_background": "light"
     },
     "output_type": "display_data"
    }
   ],
   "source": [
    "## ---------------------------------- ##\n",
    "## ---- Plot inter-ring spacings ---- ##\n",
    "## ---------------------------------- ##\n",
    "\n",
    "# Prepare data\n",
    "import math\n",
    "from matplotlib.ticker import FuncFormatter\n",
    "\n",
    "groups = ['Control', 'Swinholide A']\n",
    "means = [ctrl_data['spacing'].mean(), swin_data['spacing'].mean()]\n",
    "sems = [ctrl_data['spacing'].std()/math.sqrt(len(ctrl_data['spacing'])),\n",
    "        swin_data['spacing'].std()/math.sqrt(len(swin_data['spacing']))]\n",
    "\n",
    "# Create an array for the x-axis positions of bars\n",
    "x = np.arange(len(groups))\n",
    "\n",
    "# Create the bar plot\n",
    "colors = ['tab:blue', 'tab:orange']\n",
    "\n",
    "plt.figure(figsize=(5, 5))  # Width, height in inches\n",
    "\n",
    "for i in range(len(groups)):\n",
    "    plt.bar(x[i], means[i], yerr=sems[i], capsize=5, alpha=1, label='Means', color='white', edgecolor=colors[i], linewidth=2)\n",
    "    plt.bar(x[i], means[i], yerr=sems[i], capsize=5, alpha=0.5, label='Means', color=colors[i])\n",
    "\n",
    "# Customize plot\n",
    "plt.title('Spacing', fontsize=16, pad=12)\n",
    "plt.xticks(x, groups, fontsize=16)  # Set group labels on the x-axis\n",
    "plt.tick_params(axis='y', labelsize=16)\n",
    "plt.ylabel('Spacing (nm)', fontsize=16, labelpad=12)\n",
    "\n",
    "\n",
    "def y_format_func(value, tick_number):\n",
    "    new_value = value * 1000\n",
    "    return f\"{new_value:.0f}\"\n",
    "plt.gca().yaxis.set_major_formatter(FuncFormatter(y_format_func))\n",
    "\n",
    "plt.ylim(0, 0.25)\n",
    "\n",
    "# Add \"n.s.\" label on top of the 2nd (Swin) and 3rd (Cuc) bars\n",
    "plt.text(x[1], means[1] + sems[1] + 0.005, 'n.s.', ha='center', va='bottom', color='black', fontsize=16)\n",
    "\n",
    "# Show the plot\n",
    "plt.tight_layout()\n",
    "plt.savefig('/Users/user/Optimization/optimized_spacings.png', dpi=300)\n",
    "\n",
    "#plt.show()\n"
   ]
  },
  {
   "cell_type": "code",
   "execution_count": null,
   "id": "d4d5bb1d",
   "metadata": {},
   "outputs": [],
   "source": [
    "# STATS ON HEIGHTS\n",
    "\n"
   ]
  },
  {
   "cell_type": "code",
   "execution_count": 26,
   "id": "68afd9d6",
   "metadata": {},
   "outputs": [
    {
     "name": "stdout",
     "output_type": "stream",
     "text": [
      "Mann-Whitbey U Test on heights:  MannwhitneyuResult(statistic=482.0, pvalue=0.6374445582766697)\n"
     ]
    }
   ],
   "source": [
    "# Mann-Whitney test on ring heights\n",
    "from scipy.stats import mannwhitneyu\n",
    "\n",
    "mannwhitneyu_result = mannwhitneyu(ctrl_data['height'], swin_data['height'], alternative='two-sided')\n",
    "print('Mann-Whitbey U Test on heights: ', mannwhitneyu_result)\n"
   ]
  },
  {
   "cell_type": "code",
   "execution_count": 28,
   "id": "0cb26333",
   "metadata": {},
   "outputs": [
    {
     "data": {
      "image/png": "[encoded data removed]",
      "text/plain": [
       "<Figure size 360x360 with 1 Axes>"
      ]
     },
     "metadata": {
      "needs_background": "light"
     },
     "output_type": "display_data"
    }
   ],
   "source": [
    "## --------------------------- ##\n",
    "## ---- Plot ring heights ---- ##\n",
    "## --------------------------- ##\n",
    "\n",
    "# Prepare data\n",
    "import math\n",
    "from matplotlib.ticker import FuncFormatter\n",
    "\n",
    "groups = ['Control', 'Swinholide A']\n",
    "means = [ctrl_data['height'].mean(), swin_data['height'].mean()]\n",
    "sems = [ctrl_data['height'].std()/math.sqrt(len(ctrl_data['height'])),\n",
    "        swin_data['height'].std()/math.sqrt(len(swin_data['height']))]\n",
    "\n",
    "# Create an array for the x-axis positions of bars\n",
    "x = np.arange(len(groups))\n",
    "\n",
    "# Create the bar plot\n",
    "colors = ['tab:blue', 'tab:orange']\n",
    "\n",
    "plt.figure(figsize=(5, 5))  # Width, height in inches\n",
    "\n",
    "for i in range(len(groups)):\n",
    "    plt.bar(x[i], means[i], yerr=sems[i], capsize=5, alpha=1, label='Means', color='white', edgecolor=colors[i], linewidth=2)\n",
    "    plt.bar(x[i], means[i], yerr=sems[i], capsize=5, alpha=0.5, label='Means', color=colors[i])\n",
    "\n",
    "# Customize plot\n",
    "plt.title('Height', fontsize=16, pad=12)\n",
    "plt.xticks(x, groups, fontsize=16)  # Set group labels on the x-axis\n",
    "plt.tick_params(axis='y', labelsize=16)\n",
    "plt.yticks()\n",
    "plt.ylabel('Height (nm)', fontsize=16, labelpad=12)\n",
    "\n",
    "\n",
    "def y_format_func(value, tick_number):\n",
    "    new_value = value * 1000\n",
    "    return f\"{new_value:.0f}\"\n",
    "plt.gca().yaxis.set_major_formatter(FuncFormatter(y_format_func))\n",
    "\n",
    "#plt.ylim(0, 1.2)\n",
    "\n",
    "# Add \"n.s.\" label on top of the 2nd (Swin) and 3rd (Cuc) bars\n",
    "plt.text(x[1], means[1] + sems[1] + 0.005, 'n.s.', ha='center', va='bottom', color='black', fontsize=16)\n",
    "\n",
    "# Show the plot\n",
    "plt.tight_layout()\n",
    "plt.savefig('/Users/ammendes/Library/CloudStorage/OneDrive-igc.gulbenkian.pt/Mendes_2023/Data_Leterrier_spectrin/Optimization/optimized_heights.png', dpi=300)\n",
    "\n",
    "#plt.show()\n",
    "\n",
    "\n"
   ]
  },
  {
   "cell_type": "code",
   "execution_count": null,
   "id": "87f29248",
   "metadata": {},
   "outputs": [],
   "source": [
    "# STATS ON AMPLITUDES"
   ]
  },
  {
   "cell_type": "code",
   "execution_count": 29,
   "id": "866cd4a1",
   "metadata": {},
   "outputs": [
    {
     "name": "stdout",
     "output_type": "stream",
     "text": [
      "Mann-Whitbey U Test on amplitudes:  MannwhitneyuResult(statistic=598.0, pvalue=0.029205409568445008)\n"
     ]
    }
   ],
   "source": [
    "# Mann-Whitney test on amplitudes\n",
    "from scipy.stats import mannwhitneyu\n",
    "\n",
    "mannwhitneyu_result = mannwhitneyu(ctrl_data['max_amplitude'], swin_data['max_amplitude'], alternative='two-sided')\n",
    "print('Mann-Whitbey U Test on amplitudes: ', mannwhitneyu_result)\n"
   ]
  },
  {
   "cell_type": "code",
   "execution_count": 8,
   "id": "fdedb70a",
   "metadata": {},
   "outputs": [
    {
     "data": {
      "image/png": "[encoded data removed]",
      "text/plain": [
       "<Figure size 360x360 with 1 Axes>"
      ]
     },
     "metadata": {
      "needs_background": "light"
     },
     "output_type": "display_data"
    }
   ],
   "source": [
    "## ------------------------- ##\n",
    "## ---- Plot amplitudes ---- ##\n",
    "## ------------------------- ##\n",
    "\n",
    "# Prepare data\n",
    "import math\n",
    "import numpy as np\n",
    "import matplotlib.pyplot as plt\n",
    "from matplotlib.ticker import FuncFormatter\n",
    "\n",
    "groups = ['Control', 'Swinholide A']\n",
    "means = [ctrl_data['max_amplitude'].mean(), swin_data['max_amplitude'].mean()]\n",
    "sems = [ctrl_data['max_amplitude'].std()/math.sqrt(len(ctrl_data['max_amplitude'])),\n",
    "        swin_data['max_amplitude'].std()/math.sqrt(len(swin_data['max_amplitude']))]\n",
    "\n",
    "# Create an array for the x-axis positions of bars\n",
    "x = np.arange(len(groups))\n",
    "\n",
    "# Create the bar plot\n",
    "colors = ['tab:blue', 'tab:orange']\n",
    "\n",
    "plt.figure(figsize=(5, 5))  # Width, height in inches\n",
    "\n",
    "for i in range(len(groups)):\n",
    "    plt.bar(x[i], means[i], yerr=sems[i], capsize=5, alpha=1, label='Means', color='white', edgecolor=colors[i], linewidth=2)\n",
    "    plt.bar(x[i], means[i], yerr=sems[i], capsize=5, alpha=0.5, label='Means', color=colors[i])\n",
    "\n",
    "# Customize plot\n",
    "plt.title('max_amplitude', fontsize=16, pad=12)\n",
    "\n",
    "plt.xticks(x, groups, fontsize=16)  # Set group labels on the x-axis\n",
    "\n",
    "plt.tick_params(axis='y', labelsize=16)\n",
    "plt.ylabel('Pattern prominence', fontsize=16, labelpad=12)\n",
    "\n",
    "\n",
    "def y_format_func(value, tick_number):\n",
    "    new_value = value\n",
    "    return f\"{new_value:.2f}\"\n",
    "plt.gca().yaxis.set_major_formatter(FuncFormatter(y_format_func))\n",
    "\n",
    "#plt.ylim(0, 1)\n",
    "\n",
    "# Add \"n.s.\" label on top of the 2nd (Swin) and 3rd (Cuc) bars\n",
    "plt.text(x[1], means[1] + sems[1] + 0.005, '*', ha='center', va='bottom', color='black', fontsize=24)\n",
    "\n",
    "# Show the plot\n",
    "plt.tight_layout()\n",
    "plt.savefig('/Users/ammendes/Library/CloudStorage/OneDrive-igc.gulbenkian.pt/Mendes_2023/Data_Leterrier_spectrin/Optimization/optimized_amplitudes.png', dpi=300)\n",
    "\n",
    "#plt.show()"
   ]
  }
 ],
 "metadata": {
  "kernelspec": {
   "display_name": "Python 3 (ipykernel)",
   "language": "python",
   "name": "python3"
  },
  "language_info": {
   "codemirror_mode": {
    "name": "ipython",
    "version": 3
   },
   "file_extension": ".py",
   "mimetype": "text/x-python",
   "name": "python",
   "nbconvert_exporter": "python",
   "pygments_lexer": "ipython3",
   "version": "3.9.4"
  }
 },
 "nbformat": 4,
 "nbformat_minor": 5
}
